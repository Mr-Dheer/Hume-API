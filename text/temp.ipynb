{
 "cells": [
  {
   "cell_type": "code",
   "execution_count": 2,
   "metadata": {},
   "outputs": [],
   "source": [
    "import asyncio\n",
    "import time\n",
    "import traceback\n",
    "from utilities import print_emotions\n",
    "from hume import HumeStreamClient\n",
    "from hume.models.config import LanguageConfig"
   ]
  },
  {
   "cell_type": "code",
   "execution_count": 8,
   "metadata": {},
   "outputs": [
    {
     "data": {
      "text/plain": [
       "<Task pending name='Task-25' coro=<main() running at /var/folders/32/01d39x_s1sn9ywcywln8d29r0000gn/T/ipykernel_41036/4275789779.py:5>>"
      ]
     },
     "execution_count": 8,
     "metadata": {},
     "output_type": "execute_result"
    },
    {
     "name": "stdout",
     "output_type": "stream",
     "text": [
      "\n",
      " HEllo There, I'm very very sad,.\n",
      "- Joy: 0.003358\n",
      "- Sadness: 0.913402\n",
      "- Anger: 0.004299\n"
     ]
    }
   ],
   "source": [
    "text_stream = [\n",
    "    \" HEllo There, I'm very very sad,.\",\n",
    "]\n",
    "\n",
    "async def main():\n",
    "    try:\n",
    "        client = HumeStreamClient(\"nvfkalYcOQpX7gElUYAGjpAbHyLvVzQSGJRupal2cCGTMrSj\")\n",
    "        config = LanguageConfig(granularity=\"sentence\")\n",
    "        async with client.connect([config]) as socket:\n",
    "            for text_sample in text_stream:\n",
    "                # Simulate real time speaking with a delay\n",
    "                time.sleep(0.25 * len(text_sample.split(\" \")))\n",
    "                result = await socket.send_text(text_sample)\n",
    "                emotions = result[\"language\"][\"predictions\"][0][\"emotions\"]\n",
    "                print(f\"\\n{text_sample}\")\n",
    "                print_emotions(emotions)\n",
    "    except Exception:\n",
    "        print(traceback.format_exc())\n",
    "\n",
    "# When running the streaming API outside of a Jupyter notebook you do not need these lines.\n",
    "# Jupyter has its own async event loop, so this merges main into the Jupyter event loop.\n",
    "# To run this sample in a script with asyncio you can use `asyncio.run(main())`\n",
    "loop = asyncio.get_event_loop()\n",
    "loop.create_task(main())"
   ]
  },
  {
   "cell_type": "code",
   "execution_count": null,
   "metadata": {},
   "outputs": [],
   "source": []
  },
  {
   "cell_type": "code",
   "execution_count": null,
   "metadata": {},
   "outputs": [],
   "source": []
  },
  {
   "cell_type": "code",
   "execution_count": null,
   "metadata": {},
   "outputs": [],
   "source": []
  },
  {
   "cell_type": "code",
   "execution_count": null,
   "metadata": {},
   "outputs": [],
   "source": []
  }
 ],
 "metadata": {
  "kernelspec": {
   "display_name": "tfenv",
   "language": "python",
   "name": "python3"
  },
  "language_info": {
   "codemirror_mode": {
    "name": "ipython",
    "version": 3
   },
   "file_extension": ".py",
   "mimetype": "text/x-python",
   "name": "python",
   "nbconvert_exporter": "python",
   "pygments_lexer": "ipython3",
   "version": "3.11.8"
  }
 },
 "nbformat": 4,
 "nbformat_minor": 2
}
